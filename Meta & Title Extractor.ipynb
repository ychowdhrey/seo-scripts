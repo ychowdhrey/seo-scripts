{
  "nbformat": 4,
  "nbformat_minor": 0,
  "metadata": {
    "colab": {
      "provenance": [],
      "authorship_tag": "ABX9TyPIG5AyWKqNLCjIDu4WC2Lj",
      "include_colab_link": true
    },
    "kernelspec": {
      "name": "python3",
      "display_name": "Python 3"
    },
    "language_info": {
      "name": "python"
    }
  },
  "cells": [
    {
      "cell_type": "markdown",
      "metadata": {
        "id": "view-in-github",
        "colab_type": "text"
      },
      "source": [
        "<a href=\"https://colab.research.google.com/github/ychowdhrey/seo-scripts/blob/main/Meta%20%26%20Title%20Extractor.ipynb\" target=\"_parent\"><img src=\"https://colab.research.google.com/assets/colab-badge.svg\" alt=\"Open In Colab\"/></a>"
      ]
    },
    {
      "cell_type": "code",
      "execution_count": null,
      "metadata": {
        "id": "gtPMp3BwFfn9"
      },
      "outputs": [],
      "source": [
        "# STEP 1: Install necessary libraries\n",
        "!pip install pandas openpyxl beautifulsoup4 tqdm\n",
        "\n",
        "# STEP 2: Upload your Excel file\n",
        "from google.colab import files\n",
        "uploaded = files.upload()\n",
        "\n",
        "import pandas as pd\n",
        "import requests\n",
        "from bs4 import BeautifulSoup\n",
        "from tqdm import tqdm\n",
        "\n",
        "# STEP 3: Load the Excel file (replace with your filename if needed)\n",
        "filename = list(uploaded.keys())[0]\n",
        "df = pd.read_excel(filename)\n",
        "urls = df.iloc[:, 0]  # Assuming URLs are in the first column\n",
        "\n",
        "# STEP 4: Scrape metadata from each URL\n",
        "results = []\n",
        "\n",
        "for url in tqdm(urls):\n",
        "    try:\n",
        "        response = requests.get(url, timeout=5)\n",
        "        soup = BeautifulSoup(response.text, 'html.parser')\n",
        "\n",
        "        title = soup.title.string.strip() if soup.title else ''\n",
        "        meta_desc = soup.find('meta', attrs={'name': 'description'})\n",
        "        og_title = soup.find('meta', property='og:title')\n",
        "        og_desc = soup.find('meta', property='og:description')\n",
        "\n",
        "        results.append({\n",
        "            'URL': url,\n",
        "            'Title': og_title['content'] if og_title else title,\n",
        "            'Meta Description': og_desc['content'] if og_desc else (meta_desc['content'] if meta_desc else '')\n",
        "        })\n",
        "    except Exception as e:\n",
        "        results.append({\n",
        "            'URL': url,\n",
        "            'Title': 'Error',\n",
        "            'Meta Description': str(e)\n",
        "        })\n",
        "\n",
        "# STEP 5: Save results to Excel\n",
        "output_df = pd.DataFrame(results)\n",
        "output_filename = \"article_metadata_output.xlsx\"\n",
        "output_df.to_excel(output_filename, index=False)\n",
        "\n",
        "# STEP 6: Download the result\n",
        "files.download(output_filename)\n"
      ]
    },
    {
      "cell_type": "code",
      "source": [],
      "metadata": {
        "id": "ELEnCs0J1kbN"
      },
      "execution_count": null,
      "outputs": []
    }
  ]
}